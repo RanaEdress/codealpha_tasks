{
  "nbformat": 4,
  "nbformat_minor": 0,
  "metadata": {
    "colab": {
      "provenance": []
    },
    "kernelspec": {
      "name": "python3",
      "display_name": "Python 3"
    },
    "language_info": {
      "name": "python"
    }
  },
  "cells": [
    {
      "cell_type": "code",
      "execution_count": null,
      "metadata": {
        "id": "7xDp6bzTJFa9"
      },
      "outputs": [],
      "source": [
        "import numpy as np\n",
        "import pandas as pd"
      ]
    },
    {
      "cell_type": "code",
      "source": [
        "from keras.datasets import mnist\n",
        "from keras.utils import to_categorical"
      ],
      "metadata": {
        "id": "1p-9uWfaJNT8"
      },
      "execution_count": null,
      "outputs": []
    },
    {
      "cell_type": "code",
      "source": [
        "(x_train, y_train), (x_test, y_test) = mnist.load_data()"
      ],
      "metadata": {
        "id": "hjVlsgL5JSHH",
        "outputId": "40faf723-7b2c-4aa0-96c0-e9a70e2b8826",
        "colab": {
          "base_uri": "https://localhost:8080/"
        }
      },
      "execution_count": null,
      "outputs": [
        {
          "output_type": "stream",
          "name": "stdout",
          "text": [
            "Downloading data from https://storage.googleapis.com/tensorflow/tf-keras-datasets/mnist.npz\n",
            "11490434/11490434 [==============================] - 0s 0us/step\n"
          ]
        }
      ]
    },
    {
      "cell_type": "code",
      "source": [
        "from matplotlib import pyplot\n",
        "for i in range(9):\n",
        " pyplot.subplot(330 + 1 + i)\n",
        " pyplot.imshow(x_train[i], cmap=pyplot.get_cmap('gray'))\n",
        "pyplot.show()"
      ],
      "metadata": {
        "colab": {
          "base_uri": "https://localhost:8080/",
          "height": 433
        },
        "id": "cOmy_Uz7QZfM",
        "outputId": "7d916b6f-1be3-43e4-fd47-7e0d12d96da5"
      },
      "execution_count": null,
      "outputs": [
        {
          "output_type": "display_data",
          "data": {
            "text/plain": [
              "<Figure size 640x480 with 9 Axes>"
            ],
            "image/png": "[encoded data removed]"
          },
          "metadata": {}
        }
      ]
    },
    {
      "cell_type": "code",
      "source": [
        "x_train = x_train[:5000]\n",
        "y_train = y_train[:5000]\n",
        "\n",
        "x_test = x_test[:5000]\n",
        "y_test = y_test[:5000]\n",
        "\n",
        "x_train = x_train.reshape(x_train.shape[0], -1) / 255.0\n",
        "x_test = x_test.reshape(x_test.shape[0], -1) / 255.0\n",
        "\n",
        "\n",
        "y_train = to_categorical(y_train)\n",
        "y_test = to_categorical(y_test)"
      ],
      "metadata": {
        "id": "7rpb2vYOJXGt"
      },
      "execution_count": null,
      "outputs": []
    },
    {
      "cell_type": "code",
      "source": [
        "\n",
        "print('X_train: ' + str(x_train.shape))\n",
        "print('Y_train: ' + str(y_train.shape))\n",
        "\n",
        "print('X_test:  '  + str(x_test.shape))\n",
        "print('Y_test:  '  + str(y_test.shape))"
      ],
      "metadata": {
        "colab": {
          "base_uri": "https://localhost:8080/"
        },
        "id": "S42lRYg_JUs4",
        "outputId": "a4e189c6-2a5d-4217-c2f3-87ca6cdd3326"
      },
      "execution_count": null,
      "outputs": [
        {
          "output_type": "stream",
          "name": "stdout",
          "text": [
            "X_train: (5000, 784)\n",
            "Y_train: (5000, 10)\n",
            "X_test:  (5000, 784)\n",
            "Y_test:  (5000, 10)\n"
          ]
        }
      ]
    },
    {
      "cell_type": "code",
      "source": [
        "def random_weights(input_size, hidden_size, output_size):\n",
        "    weight_hidden = np.random.randn(hidden_size, input_size)\n",
        "    bais_hidden = 1\n",
        "\n",
        "    weight_output = np.random.randn(output_size, hidden_size)\n",
        "    bais_output = 1\n",
        "\n",
        "    return weight_hidden,  bais_hidden, weight_output, bais_output"
      ],
      "metadata": {
        "id": "QdNCep70J1h2"
      },
      "execution_count": null,
      "outputs": []
    },
    {
      "cell_type": "code",
      "source": [
        "def sigmoid(x):\n",
        "    x = np.clip(x, -500, 500)\n",
        "    return 1 / (1 + np.exp(-x))\n",
        "\n"
      ],
      "metadata": {
        "id": "zfbC778ZKIrP"
      },
      "execution_count": null,
      "outputs": []
    },
    {
      "cell_type": "code",
      "source": [
        "def forward(input_list, weight_hidden, bais_hidden, weight_output, bais_output):\n",
        "    inputs = np.array(input_list).T\n",
        "\n",
        "    hidden_inputs = np.dot(weight_hidden, inputs) + bais_hidden\n",
        "    hidden_outputs = sigmoid(hidden_inputs)\n",
        "\n",
        "    out_inputs = np.dot(weight_output, hidden_outputs) + bais_output\n",
        "\n",
        "\n",
        "    oj = sigmoid(out_inputs)\n",
        "\n",
        "    return oj"
      ],
      "metadata": {
        "id": "VwoK4AYFKDPS"
      },
      "execution_count": null,
      "outputs": []
    },
    {
      "cell_type": "code",
      "source": [
        "def derivative(x):\n",
        "    return sigmoid(x) * (1 - sigmoid(x))"
      ],
      "metadata": {
        "id": "xSUA_f3EKNmq"
      },
      "execution_count": null,
      "outputs": []
    },
    {
      "cell_type": "code",
      "source": [
        "def backward(inputs_list, targets_list, weight_hidden,  bais_hidden,weight_output, bais_output, eta):\n",
        "    inputs = np.array(inputs_list).T\n",
        "    tj = np.array(targets_list).T\n",
        "    hidden_inputs = np.dot(weight_hidden, inputs) + bais_hidden\n",
        "    hidden_outputs = sigmoid(hidden_inputs)\n",
        "    out_inputs = np.dot(weight_output, hidden_outputs) + bais_output\n",
        "    oj = sigmoid(out_inputs)\n",
        "\n",
        "    # Backward\n",
        "    output_errors = -(tj - oj)\n",
        "    hidden_errors = np.dot(weight_output.T, output_errors)\n",
        "\n",
        "    # Update weights and biases\n",
        "    weight_output -= eta * np.dot((output_errors * derivative(oj)), hidden_outputs.T)\n",
        "    weight_hidden -= eta * np.dot((hidden_errors * derivative(hidden_outputs)), inputs.T)\n",
        "    bais_output -= eta* (output_errors *derivative(oj))\n",
        "    bais_hidden -= eta* (hidden_errors * derivative(hidden_outputs))\n",
        "\n",
        "\n",
        "    return weight_hidden,  bais_hidden, weight_output, bais_output"
      ],
      "metadata": {
        "id": "wW_lOcb6KOuh"
      },
      "execution_count": null,
      "outputs": []
    },
    {
      "cell_type": "code",
      "source": [
        "def fit(inputs_list, targets_list, epochs, weight_hidden, bais_hidden,weight_output, bais_output,eta):\n",
        "    for epoch in range(epochs):\n",
        "        weight_hidden, bais_hidden,  weight_output, bais_output = backward(inputs_list, targets_list,weight_hidden , bais_hidden, weight_output, bais_output,eta)\n",
        "        print(f\"Epoch {epoch}/{epochs} completed.\")\n",
        "    return weight_hidden, bais_hidden,  weight_output, bais_output\n"
      ],
      "metadata": {
        "id": "6pf4he9OKYTP"
      },
      "execution_count": null,
      "outputs": []
    },
    {
      "cell_type": "code",
      "source": [
        "def predict(X, weight_hidden, bais_hidden,  weight_output, bais_output):\n",
        "    outputs = forward(X, weight_hidden, bais_hidden,  weight_output, bais_output).T\n",
        "    return outputs"
      ],
      "metadata": {
        "id": "CHFKNgD-KbIz"
      },
      "execution_count": null,
      "outputs": []
    },
    {
      "cell_type": "code",
      "source": [
        "#  architecture\n",
        "input_size = 784\n",
        "hidden_size = 128\n",
        "output_size = 10\n",
        "eta = 0.1\n",
        "epochs = 100"
      ],
      "metadata": {
        "id": "aBwhfJLAKdTI"
      },
      "execution_count": null,
      "outputs": []
    },
    {
      "cell_type": "code",
      "source": [
        "weight_hidden,  bais_hidden, weight_output, bais_output = random_weights(input_size, hidden_size, output_size)\n",
        "\n",
        "weight_hidden,  bais_hidden, weight_output, bais_output = fit(x_train, y_train, epochs,weight_hidden,  bais_hidden, weight_output, bais_output , eta)"
      ],
      "metadata": {
        "colab": {
          "base_uri": "https://localhost:8080/"
        },
        "id": "OvRDuZMIKiPb",
        "outputId": "87208337-b712-4f99-ebff-7ea6589cd05d"
      },
      "execution_count": null,
      "outputs": [
        {
          "output_type": "stream",
          "name": "stdout",
          "text": [
            "Epoch 0/100 completed.\n",
            "Epoch 1/100 completed.\n",
            "Epoch 2/100 completed.\n",
            "Epoch 3/100 completed.\n",
            "Epoch 4/100 completed.\n",
            "Epoch 5/100 completed.\n",
            "Epoch 6/100 completed.\n",
            "Epoch 7/100 completed.\n",
            "Epoch 8/100 completed.\n",
            "Epoch 9/100 completed.\n",
            "Epoch 10/100 completed.\n",
            "Epoch 11/100 completed.\n",
            "Epoch 12/100 completed.\n",
            "Epoch 13/100 completed.\n",
            "Epoch 14/100 completed.\n",
            "Epoch 15/100 completed.\n",
            "Epoch 16/100 completed.\n",
            "Epoch 17/100 completed.\n",
            "Epoch 18/100 completed.\n",
            "Epoch 19/100 completed.\n",
            "Epoch 20/100 completed.\n",
            "Epoch 21/100 completed.\n",
            "Epoch 22/100 completed.\n",
            "Epoch 23/100 completed.\n",
            "Epoch 24/100 completed.\n",
            "Epoch 25/100 completed.\n",
            "Epoch 26/100 completed.\n",
            "Epoch 27/100 completed.\n",
            "Epoch 28/100 completed.\n",
            "Epoch 29/100 completed.\n",
            "Epoch 30/100 completed.\n",
            "Epoch 31/100 completed.\n",
            "Epoch 32/100 completed.\n",
            "Epoch 33/100 completed.\n",
            "Epoch 34/100 completed.\n",
            "Epoch 35/100 completed.\n",
            "Epoch 36/100 completed.\n",
            "Epoch 37/100 completed.\n",
            "Epoch 38/100 completed.\n",
            "Epoch 39/100 completed.\n",
            "Epoch 40/100 completed.\n",
            "Epoch 41/100 completed.\n",
            "Epoch 42/100 completed.\n",
            "Epoch 43/100 completed.\n",
            "Epoch 44/100 completed.\n",
            "Epoch 45/100 completed.\n",
            "Epoch 46/100 completed.\n",
            "Epoch 47/100 completed.\n",
            "Epoch 48/100 completed.\n",
            "Epoch 49/100 completed.\n",
            "Epoch 50/100 completed.\n",
            "Epoch 51/100 completed.\n",
            "Epoch 52/100 completed.\n",
            "Epoch 53/100 completed.\n",
            "Epoch 54/100 completed.\n",
            "Epoch 55/100 completed.\n",
            "Epoch 56/100 completed.\n",
            "Epoch 57/100 completed.\n",
            "Epoch 58/100 completed.\n",
            "Epoch 59/100 completed.\n",
            "Epoch 60/100 completed.\n",
            "Epoch 61/100 completed.\n",
            "Epoch 62/100 completed.\n",
            "Epoch 63/100 completed.\n",
            "Epoch 64/100 completed.\n",
            "Epoch 65/100 completed.\n",
            "Epoch 66/100 completed.\n",
            "Epoch 67/100 completed.\n",
            "Epoch 68/100 completed.\n",
            "Epoch 69/100 completed.\n",
            "Epoch 70/100 completed.\n",
            "Epoch 71/100 completed.\n",
            "Epoch 72/100 completed.\n",
            "Epoch 73/100 completed.\n",
            "Epoch 74/100 completed.\n",
            "Epoch 75/100 completed.\n",
            "Epoch 76/100 completed.\n",
            "Epoch 77/100 completed.\n",
            "Epoch 78/100 completed.\n",
            "Epoch 79/100 completed.\n",
            "Epoch 80/100 completed.\n",
            "Epoch 81/100 completed.\n",
            "Epoch 82/100 completed.\n",
            "Epoch 83/100 completed.\n",
            "Epoch 84/100 completed.\n",
            "Epoch 85/100 completed.\n",
            "Epoch 86/100 completed.\n",
            "Epoch 87/100 completed.\n",
            "Epoch 88/100 completed.\n",
            "Epoch 89/100 completed.\n",
            "Epoch 90/100 completed.\n",
            "Epoch 91/100 completed.\n",
            "Epoch 92/100 completed.\n",
            "Epoch 93/100 completed.\n",
            "Epoch 94/100 completed.\n",
            "Epoch 95/100 completed.\n",
            "Epoch 96/100 completed.\n",
            "Epoch 97/100 completed.\n",
            "Epoch 98/100 completed.\n",
            "Epoch 99/100 completed.\n"
          ]
        }
      ]
    },
    {
      "cell_type": "code",
      "source": [
        "test = predict(x_test, weight_hidden,  bais_hidden, weight_output, bais_output)\n",
        "y_pred = []\n",
        "\n",
        "for i in test:\n",
        "    max_idx = np.argmax(i)\n",
        "    prediction= np.zeros_like(i)\n",
        "    prediction[max_idx] = 1\n",
        "    y_pred.append(prediction)"
      ],
      "metadata": {
        "id": "7ic3Ag4EK5cs"
      },
      "execution_count": null,
      "outputs": []
    },
    {
      "cell_type": "code",
      "source": [
        "from sklearn.metrics import accuracy_score\n",
        "from sklearn.metrics import confusion_matrix\n",
        "from sklearn import metrics"
      ],
      "metadata": {
        "id": "PpQNgPXLLDOv"
      },
      "execution_count": null,
      "outputs": []
    },
    {
      "cell_type": "code",
      "source": [
        "print(\"The Accuracy:\",accuracy_score(y_pred, y_test))"
      ],
      "metadata": {
        "colab": {
          "base_uri": "https://localhost:8080/"
        },
        "id": "2QstF9JbK9XO",
        "outputId": "82c847f7-237b-4adb-dee7-c9580cb9a633"
      },
      "execution_count": null,
      "outputs": [
        {
          "output_type": "stream",
          "name": "stdout",
          "text": [
            "The Accuracy: 0.7794\n"
          ]
        }
      ]
    },
    {
      "cell_type": "code",
      "source": [
        "y_test = np.ravel(y_test)\n",
        "y_pred = np.ravel(y_pred)\n",
        "\n",
        "conf = confusion_matrix(y_test, y_pred)\n",
        "print(\"Confusion Matrix:\")\n",
        "print(conf)"
      ],
      "metadata": {
        "colab": {
          "base_uri": "https://localhost:8080/"
        },
        "id": "JmBdLDXvLIhV",
        "outputId": "e19cdc99-2e55-4f77-f1d9-5f7f32507ad1"
      },
      "execution_count": null,
      "outputs": [
        {
          "output_type": "stream",
          "name": "stdout",
          "text": [
            "Confusion Matrix:\n",
            "[[43897  1103]\n",
            " [ 1103  3897]]\n"
          ]
        }
      ]
    }
  ]
}